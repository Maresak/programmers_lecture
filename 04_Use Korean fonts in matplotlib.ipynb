{
 "cells": [
  {
   "cell_type": "code",
   "execution_count": 1,
   "metadata": {},
   "outputs": [],
   "source": [
    "# 그래프를 노트북 안에 그리기 위해 설정\n",
    "%matplotlib inline\n",
    "\n",
    "import matplotlib as mpl\n",
    "import matplotlib.pyplot as plt\n",
    "import matplotlib.font_manager as fm\n",
    "\n",
    "# 그래프에서 마이너스 폰트 깨지는 문제에 대한 대처\n",
    "mpl.rcParams['axes.unicode_minus'] = False"
   ]
  },
  {
   "cell_type": "code",
   "execution_count": 2,
   "metadata": {},
   "outputs": [
    {
     "data": {
      "text/plain": [
       "array([  5,   0, -29,  -2, -29, -81, -27, -57, -25, -57,  13,  26,  78,\n",
       "       134, 115, 165, 262, 200, 297, 385, 376, 450, 483, 515, 500, 454,\n",
       "       498, 426, 330, 385, 310, 317, 258, 337, 332, 375, 462, 412, 371,\n",
       "       433, 398, 317, 301, 250, 310, 309, 389, 441, 490, 415], dtype=int32)"
      ]
     },
     "execution_count": 2,
     "metadata": {},
     "output_type": "execute_result"
    }
   ],
   "source": [
    "import numpy as np\n",
    "\n",
    "data = np.random.randint(-100, 100, 50).cumsum()\n",
    "data"
   ]
  },
  {
   "cell_type": "code",
   "execution_count": 3,
   "metadata": {},
   "outputs": [
    {
     "data": {
      "text/plain": [
       "Text(0.5, 0, '시간(분)')"
      ]
     },
     "execution_count": 3,
     "metadata": {},
     "output_type": "execute_result"
    },
    {
     "data": {
      "image/png": "[encoded data removed]",
      "text/plain": [
       "<Figure size 432x288 with 1 Axes>"
      ]
     },
     "metadata": {
      "needs_background": "light"
     },
     "output_type": "display_data"
    }
   ],
   "source": [
    "plt.plot(range(50), data, 'r')\n",
    "mpl.rcParams['axes.unicode_minus'] = False\n",
    "plt.title('시간별 가격 추이')\n",
    "plt.ylabel('주식 가격')\n",
    "plt.xlabel('시간(분)')"
   ]
  },
  {
   "cell_type": "code",
   "execution_count": 4,
   "metadata": {},
   "outputs": [
    {
     "name": "stdout",
     "output_type": "stream",
     "text": [
      "버전:  3.0.3\n",
      "설치 위치:  c:\\python36\\virtualenv\\venv01\\lib\\site-packages\\matplotlib\\__init__.py\n",
      "설정 위치:  C:\\Users\\Lenovo\\.matplotlib\n",
      "캐시 위치:  C:\\Users\\Lenovo\\.matplotlib\n"
     ]
    }
   ],
   "source": [
    "# 폰트 설정 전 matplotlib의 버전, 위치 정보 가져오기\n",
    "print ('버전: ', mpl.__version__)\n",
    "print ('설치 위치: ', mpl.__file__)\n",
    "print ('설정 위치: ', mpl.get_configdir())\n",
    "print ('캐시 위치: ', mpl.get_cachedir())"
   ]
  },
  {
   "cell_type": "code",
   "execution_count": 5,
   "metadata": {},
   "outputs": [
    {
     "name": "stdout",
     "output_type": "stream",
     "text": [
      "설정 파일 위치:  c:\\python36\\virtualenv\\venv01\\lib\\site-packages\\matplotlib\\mpl-data\\matplotlibrc\n"
     ]
    }
   ],
   "source": [
    "print ('설정 파일 위치: ', mpl.matplotlib_fname())"
   ]
  },
  {
   "cell_type": "code",
   "execution_count": 6,
   "metadata": {},
   "outputs": [
    {
     "name": "stdout",
     "output_type": "stream",
     "text": [
      "339\n"
     ]
    }
   ],
   "source": [
    "font_list = fm.findSystemFonts(fontpaths=None, fontext='ttf')\n",
    "print(len(font_list))"
   ]
  },
  {
   "cell_type": "code",
   "execution_count": 7,
   "metadata": {},
   "outputs": [
    {
     "name": "stdout",
     "output_type": "stream",
     "text": [
      "338\n"
     ]
    }
   ],
   "source": [
    "font_list_win = fm.win32InstalledFonts()\n",
    "print(len(font_list_win))"
   ]
  },
  {
   "cell_type": "code",
   "execution_count": 8,
   "metadata": {},
   "outputs": [
    {
     "data": {
      "text/plain": [
       "['C:\\\\Windows\\\\Fonts\\\\georgiab.ttf',\n",
       " 'C:\\\\Windows\\\\Fonts\\\\consolai.ttf',\n",
       " 'C:\\\\Windows\\\\Fonts\\\\REFSPCL.TTF',\n",
       " 'C:\\\\Windows\\\\Fonts\\\\RAVIE.TTF',\n",
       " 'C:\\\\Windows\\\\Fonts\\\\BRITANIC.TTF',\n",
       " 'C:\\\\Windows\\\\Fonts\\\\STENCIL.TTF',\n",
       " 'C:\\\\Windows\\\\Fonts\\\\LHANDW.TTF',\n",
       " 'C:\\\\Windows\\\\Fonts\\\\FRADMCN.TTF',\n",
       " 'C:\\\\Windows\\\\Fonts\\\\BSSYM7.TTF',\n",
       " 'C:\\\\Windows\\\\Fonts\\\\Candarai.ttf']"
      ]
     },
     "execution_count": 8,
     "metadata": {},
     "output_type": "execute_result"
    }
   ],
   "source": [
    "font_list[:10]"
   ]
  },
  {
   "cell_type": "code",
   "execution_count": 9,
   "metadata": {},
   "outputs": [
    {
     "name": "stdout",
     "output_type": "stream",
     "text": [
      "369\n"
     ]
    },
    {
     "data": {
      "text/plain": [
       "['cmmi10',\n",
       " 'STIXSizeTwoSym',\n",
       " 'cmr10',\n",
       " 'STIXSizeTwoSym',\n",
       " 'cmss10',\n",
       " 'STIXNonUnicode',\n",
       " 'STIXGeneral',\n",
       " 'cmb10',\n",
       " 'DejaVu Sans',\n",
       " 'DejaVu Sans Mono']"
      ]
     },
     "execution_count": 9,
     "metadata": {},
     "output_type": "execute_result"
    }
   ],
   "source": [
    "f = [f.name for f in fm.fontManager.ttflist]\n",
    "print(len(f))\n",
    "# 10개의 폰트 명 만 출력\n",
    "f[:10]"
   ]
  },
  {
   "cell_type": "code",
   "execution_count": 10,
   "metadata": {},
   "outputs": [
    {
     "data": {
      "text/plain": [
       "[]"
      ]
     },
     "execution_count": 10,
     "metadata": {},
     "output_type": "execute_result"
    }
   ],
   "source": [
    "# 나눔 고딕 사용하기 위해 'Nanum'이 들어간 폰트만 가져오기\n",
    "[(f.name, f.fname) for f in fm.fontManager.ttflist if 'Nanum' in f.name]"
   ]
  },
  {
   "cell_type": "code",
   "execution_count": 11,
   "metadata": {},
   "outputs": [
    {
     "data": {
      "text/plain": [
       "['Agency FB',\n",
       " 'Agency FB',\n",
       " 'Algerian',\n",
       " 'Ami R',\n",
       " 'Arial',\n",
       " 'Arial',\n",
       " 'Arial',\n",
       " 'Arial',\n",
       " 'Arial',\n",
       " 'Arial',\n",
       " 'Arial',\n",
       " 'Arial',\n",
       " 'Arial',\n",
       " 'Arial Rounded MT Bold',\n",
       " 'Arial Unicode MS',\n",
       " 'Bahnschrift',\n",
       " 'Baskerville Old Face',\n",
       " 'Bauhaus 93',\n",
       " 'Bell MT',\n",
       " 'Bell MT',\n",
       " 'Bell MT',\n",
       " 'Berlin Sans FB',\n",
       " 'Berlin Sans FB',\n",
       " 'Berlin Sans FB Demi',\n",
       " 'Bernard MT Condensed',\n",
       " 'Blackadder ITC',\n",
       " 'Bodoni MT',\n",
       " 'Bodoni MT',\n",
       " 'Bodoni MT',\n",
       " 'Bodoni MT',\n",
       " 'Bodoni MT',\n",
       " 'Bodoni MT',\n",
       " 'Bodoni MT',\n",
       " 'Bodoni MT',\n",
       " 'Bodoni MT',\n",
       " 'Bodoni MT',\n",
       " 'Bodoni MT',\n",
       " 'Book Antiqua',\n",
       " 'Book Antiqua',\n",
       " 'Book Antiqua',\n",
       " 'Book Antiqua',\n",
       " 'Bookman Old Style',\n",
       " 'Bookman Old Style',\n",
       " 'Bookman Old Style',\n",
       " 'Bookman Old Style',\n",
       " 'Bookshelf Symbol 7',\n",
       " 'Bradley Hand ITC',\n",
       " 'Britannic Bold',\n",
       " 'Broadway',\n",
       " 'Brush Script MT',\n",
       " 'Calibri',\n",
       " 'Calibri',\n",
       " 'Calibri',\n",
       " 'Calibri',\n",
       " 'Calibri',\n",
       " 'Calibri',\n",
       " 'Californian FB',\n",
       " 'Californian FB',\n",
       " 'Californian FB',\n",
       " 'Calisto MT',\n",
       " 'Calisto MT',\n",
       " 'Calisto MT',\n",
       " 'Calisto MT',\n",
       " 'Cambria',\n",
       " 'Cambria',\n",
       " 'Cambria',\n",
       " 'Candara',\n",
       " 'Candara',\n",
       " 'Candara',\n",
       " 'Candara',\n",
       " 'Candara',\n",
       " 'Candara',\n",
       " 'Castellar',\n",
       " 'Centaur',\n",
       " 'Century',\n",
       " 'Century Gothic',\n",
       " 'Century Gothic',\n",
       " 'Century Gothic',\n",
       " 'Century Gothic',\n",
       " 'Century Schoolbook',\n",
       " 'Century Schoolbook',\n",
       " 'Century Schoolbook',\n",
       " 'Century Schoolbook',\n",
       " 'Chiller',\n",
       " 'Colonna MT',\n",
       " 'Comic Sans MS',\n",
       " 'Comic Sans MS',\n",
       " 'Comic Sans MS',\n",
       " 'Comic Sans MS',\n",
       " 'Consolas',\n",
       " 'Consolas',\n",
       " 'Consolas',\n",
       " 'Consolas',\n",
       " 'Constantia',\n",
       " 'Constantia',\n",
       " 'Constantia',\n",
       " 'Constantia',\n",
       " 'Cooper Black',\n",
       " 'Copperplate Gothic Bold',\n",
       " 'Copperplate Gothic Light',\n",
       " 'Corbel',\n",
       " 'Corbel',\n",
       " 'Corbel',\n",
       " 'Corbel',\n",
       " 'Corbel',\n",
       " 'Corbel',\n",
       " 'Courier New',\n",
       " 'Courier New',\n",
       " 'Courier New',\n",
       " 'Courier New',\n",
       " 'Curlz MT',\n",
       " 'DejaVu Sans',\n",
       " 'DejaVu Sans',\n",
       " 'DejaVu Sans',\n",
       " 'DejaVu Sans',\n",
       " 'DejaVu Sans Display',\n",
       " 'DejaVu Sans Mono',\n",
       " 'DejaVu Sans Mono',\n",
       " 'DejaVu Sans Mono',\n",
       " 'DejaVu Sans Mono',\n",
       " 'DejaVu Serif',\n",
       " 'DejaVu Serif',\n",
       " 'DejaVu Serif',\n",
       " 'DejaVu Serif',\n",
       " 'DejaVu Serif Display',\n",
       " 'Ebrima',\n",
       " 'Ebrima',\n",
       " 'Edwardian Script ITC',\n",
       " 'Elephant',\n",
       " 'Elephant',\n",
       " 'Engravers MT',\n",
       " 'Eras Bold ITC',\n",
       " 'Eras Demi ITC',\n",
       " 'Eras Light ITC',\n",
       " 'Eras Medium ITC',\n",
       " 'Felix Titling',\n",
       " 'Footlight MT Light',\n",
       " 'Forte',\n",
       " 'Franklin Gothic Book',\n",
       " 'Franklin Gothic Book',\n",
       " 'Franklin Gothic Demi',\n",
       " 'Franklin Gothic Demi',\n",
       " 'Franklin Gothic Demi Cond',\n",
       " 'Franklin Gothic Heavy',\n",
       " 'Franklin Gothic Heavy',\n",
       " 'Franklin Gothic Medium',\n",
       " 'Franklin Gothic Medium',\n",
       " 'Franklin Gothic Medium Cond',\n",
       " 'Freestyle Script',\n",
       " 'French Script MT',\n",
       " 'Gabriola',\n",
       " 'Gadugi',\n",
       " 'Gadugi',\n",
       " 'Garamond',\n",
       " 'Garamond',\n",
       " 'Garamond',\n",
       " 'Georgia',\n",
       " 'Georgia',\n",
       " 'Georgia',\n",
       " 'Georgia',\n",
       " 'Gigi',\n",
       " 'Gill Sans MT',\n",
       " 'Gill Sans MT',\n",
       " 'Gill Sans MT',\n",
       " 'Gill Sans MT',\n",
       " 'Gill Sans MT Condensed',\n",
       " 'Gill Sans MT Ext Condensed Bold',\n",
       " 'Gill Sans Ultra Bold',\n",
       " 'Gill Sans Ultra Bold Condensed',\n",
       " 'Gloucester MT Extra Condensed',\n",
       " 'Goudy Old Style',\n",
       " 'Goudy Old Style',\n",
       " 'Goudy Old Style',\n",
       " 'Goudy Stout',\n",
       " 'HYGothic-Extra',\n",
       " 'HYGothic-Medium',\n",
       " 'HYGraphic-Medium',\n",
       " 'HYGungSo-Bold',\n",
       " 'HYHeadLine-Medium',\n",
       " 'HYMyeongJo-Extra',\n",
       " 'HYPMokGak-Bold',\n",
       " 'HYPost-Light',\n",
       " 'HYPost-Medium',\n",
       " 'HYShortSamul-Medium',\n",
       " 'HYSinMyeongJo-Medium',\n",
       " 'Haettenschweiler',\n",
       " 'Harlow Solid Italic',\n",
       " 'Harrington',\n",
       " 'Headline R',\n",
       " 'High Tower Text',\n",
       " 'High Tower Text',\n",
       " 'HoloLens MDL2 Assets',\n",
       " 'Impact',\n",
       " 'Imprint MT Shadow',\n",
       " 'Informal Roman',\n",
       " 'Ink Free',\n",
       " 'Javanese Text',\n",
       " 'Jokerman',\n",
       " 'Juice ITC',\n",
       " 'Kristen ITC',\n",
       " 'Kunstler Script',\n",
       " 'Leelawadee UI',\n",
       " 'Leelawadee UI',\n",
       " 'Leelawadee UI',\n",
       " 'Lucida Bright',\n",
       " 'Lucida Bright',\n",
       " 'Lucida Bright',\n",
       " 'Lucida Bright',\n",
       " 'Lucida Calligraphy',\n",
       " 'Lucida Console',\n",
       " 'Lucida Fax',\n",
       " 'Lucida Fax',\n",
       " 'Lucida Fax',\n",
       " 'Lucida Fax',\n",
       " 'Lucida Handwriting',\n",
       " 'Lucida Sans',\n",
       " 'Lucida Sans',\n",
       " 'Lucida Sans',\n",
       " 'Lucida Sans',\n",
       " 'Lucida Sans Typewriter',\n",
       " 'Lucida Sans Typewriter',\n",
       " 'Lucida Sans Typewriter',\n",
       " 'Lucida Sans Typewriter',\n",
       " 'Lucida Sans Unicode',\n",
       " 'MS Outlook',\n",
       " 'MS Reference Sans Serif',\n",
       " 'MS Reference Specialty',\n",
       " 'MT Extra',\n",
       " 'MV Boli',\n",
       " 'Magic R',\n",
       " 'Magneto',\n",
       " 'Maiandra GD',\n",
       " 'Malgun Gothic',\n",
       " 'Malgun Gothic',\n",
       " 'Malgun Gothic',\n",
       " 'Marlett',\n",
       " 'Matura MT Script Capitals',\n",
       " 'Microsoft Himalaya',\n",
       " 'Microsoft New Tai Lue',\n",
       " 'Microsoft New Tai Lue',\n",
       " 'Microsoft PhagsPa',\n",
       " 'Microsoft PhagsPa',\n",
       " 'Microsoft Sans Serif',\n",
       " 'Microsoft Tai Le',\n",
       " 'Microsoft Tai Le',\n",
       " 'Microsoft Yi Baiti',\n",
       " 'Mistral',\n",
       " 'Modern No. 20',\n",
       " 'Mongolian Baiti',\n",
       " 'Monotype Corsiva',\n",
       " 'Myanmar Text',\n",
       " 'Myanmar Text',\n",
       " 'New Gulim',\n",
       " 'Niagara Engraved',\n",
       " 'Niagara Solid',\n",
       " 'Nirmala UI',\n",
       " 'Nirmala UI',\n",
       " 'Nirmala UI',\n",
       " 'OCR A Extended',\n",
       " 'Old English Text MT',\n",
       " 'Onyx',\n",
       " 'Palace Script MT',\n",
       " 'Palatino Linotype',\n",
       " 'Palatino Linotype',\n",
       " 'Palatino Linotype',\n",
       " 'Palatino Linotype',\n",
       " 'Papyrus',\n",
       " 'Parchment',\n",
       " 'Perpetua',\n",
       " 'Perpetua',\n",
       " 'Perpetua',\n",
       " 'Perpetua',\n",
       " 'Perpetua Titling MT',\n",
       " 'Perpetua Titling MT',\n",
       " 'Playbill',\n",
       " 'Poor Richard',\n",
       " 'Pristina',\n",
       " 'Pyunji R',\n",
       " 'Rage Italic',\n",
       " 'Ravie',\n",
       " 'Rockwell',\n",
       " 'Rockwell',\n",
       " 'Rockwell',\n",
       " 'Rockwell',\n",
       " 'Rockwell Condensed',\n",
       " 'Rockwell Condensed',\n",
       " 'Rockwell Extra Bold',\n",
       " 'STIXGeneral',\n",
       " 'STIXGeneral',\n",
       " 'STIXGeneral',\n",
       " 'STIXGeneral',\n",
       " 'STIXNonUnicode',\n",
       " 'STIXNonUnicode',\n",
       " 'STIXNonUnicode',\n",
       " 'STIXNonUnicode',\n",
       " 'STIXSizeFiveSym',\n",
       " 'STIXSizeFourSym',\n",
       " 'STIXSizeFourSym',\n",
       " 'STIXSizeOneSym',\n",
       " 'STIXSizeOneSym',\n",
       " 'STIXSizeThreeSym',\n",
       " 'STIXSizeThreeSym',\n",
       " 'STIXSizeTwoSym',\n",
       " 'STIXSizeTwoSym',\n",
       " 'Script MT Bold',\n",
       " 'Segoe MDL2 Assets',\n",
       " 'Segoe Print',\n",
       " 'Segoe Print',\n",
       " 'Segoe Script',\n",
       " 'Segoe Script',\n",
       " 'Segoe UI',\n",
       " 'Segoe UI',\n",
       " 'Segoe UI',\n",
       " 'Segoe UI',\n",
       " 'Segoe UI',\n",
       " 'Segoe UI',\n",
       " 'Segoe UI',\n",
       " 'Segoe UI',\n",
       " 'Segoe UI',\n",
       " 'Segoe UI',\n",
       " 'Segoe UI',\n",
       " 'Segoe UI',\n",
       " 'Segoe UI Emoji',\n",
       " 'Segoe UI Historic',\n",
       " 'Segoe UI Symbol',\n",
       " 'Showcard Gothic',\n",
       " 'SimSun-ExtB',\n",
       " 'Snap ITC',\n",
       " 'Stencil',\n",
       " 'Sylfaen',\n",
       " 'Symbol',\n",
       " 'Tahoma',\n",
       " 'Tahoma',\n",
       " 'Tempus Sans ITC',\n",
       " 'Times New Roman',\n",
       " 'Times New Roman',\n",
       " 'Times New Roman',\n",
       " 'Times New Roman',\n",
       " 'Trebuchet MS',\n",
       " 'Trebuchet MS',\n",
       " 'Trebuchet MS',\n",
       " 'Trebuchet MS',\n",
       " 'Tw Cen MT',\n",
       " 'Tw Cen MT',\n",
       " 'Tw Cen MT',\n",
       " 'Tw Cen MT',\n",
       " 'Tw Cen MT Condensed',\n",
       " 'Tw Cen MT Condensed',\n",
       " 'Tw Cen MT Condensed Extra Bold',\n",
       " 'Verdana',\n",
       " 'Verdana',\n",
       " 'Verdana',\n",
       " 'Verdana',\n",
       " 'Viner Hand ITC',\n",
       " 'Vivaldi',\n",
       " 'Vladimir Script',\n",
       " 'Webdings',\n",
       " 'Wide Latin',\n",
       " 'Wingdings',\n",
       " 'Wingdings 2',\n",
       " 'Wingdings 3',\n",
       " 'Yet R',\n",
       " 'cmb10',\n",
       " 'cmex10',\n",
       " 'cmmi10',\n",
       " 'cmr10',\n",
       " 'cmss10',\n",
       " 'cmsy10',\n",
       " 'cmtt10']"
      ]
     },
     "execution_count": 11,
     "metadata": {},
     "output_type": "execute_result"
    }
   ],
   "source": [
    "sorted(f)"
   ]
  },
  {
   "cell_type": "code",
   "execution_count": 13,
   "metadata": {},
   "outputs": [
    {
     "data": {
      "text/plain": [
       "[('Malgun Gothic', 'C:\\\\Windows\\\\Fonts\\\\malgun.ttf'),\n",
       " ('Malgun Gothic', 'C:\\\\Windows\\\\Fonts\\\\malgunsl.ttf'),\n",
       " ('Malgun Gothic', 'C:\\\\Windows\\\\Fonts\\\\malgunbd.ttf')]"
      ]
     },
     "execution_count": 13,
     "metadata": {},
     "output_type": "execute_result"
    }
   ],
   "source": [
    "# 맑은고딕 사용\n",
    "[(f.name, f.fname) for f in fm.fontManager.ttflist if 'Malgun' in f.name]"
   ]
  },
  {
   "cell_type": "markdown",
   "metadata": {},
   "source": [
    "# 폰트를 사용하는 방법은 3가지가 있습니다.\n",
    "### 1) FontProperties 를 사용하는 방법 - 그래프의 폰트가 필요한 항목마다 지정해 주어야 합니다.\n",
    "### 2) matplotlib.rcParams[]으로 전역 글꼴 설정 방법 - 그래프에 설정을 해주면 폰트가 필요한 항목에 적용됩니다.\n",
    "### 3) 2)번의 방법을 mpl.matplotlib_fname()로 읽어지는 설정 파일에 직접 적어주는 방법, 단 모든 노트북에 적용됩니다. 노트북을 열 때마다 지정해 주지 않아도 돼서 편리합니다."
   ]
  },
  {
   "cell_type": "markdown",
   "metadata": {},
   "source": [
    "## FontProperties 이용"
   ]
  },
  {
   "cell_type": "code",
   "execution_count": 14,
   "metadata": {},
   "outputs": [
    {
     "data": {
      "image/png": "[encoded data removed]",
      "text/plain": [
       "<Figure size 432x288 with 1 Axes>"
      ]
     },
     "metadata": {
      "needs_background": "light"
     },
     "output_type": "display_data"
    }
   ],
   "source": [
    "path = 'C:/Windows/Fonts/NanumGothic.ttf'\n",
    "fontprop = fm.FontProperties(fname=path, size=18)\n",
    "\n",
    "plt.plot(range(50), data, 'r')\n",
    "plt.title('시간별 가격 추이', fontproperties=fontprop)\n",
    "plt.xlabel('시간(분)', fontproperties=fontprop)\n",
    "plt.ylabel('주식 가격', fontproperties=fontprop)\n",
    "plt.show()"
   ]
  },
  {
   "cell_type": "markdown",
   "metadata": {},
   "source": [
    "## matplotlib.rcParams[]으로 전역 글꼴 설정 방법"
   ]
  },
  {
   "cell_type": "code",
   "execution_count": 15,
   "metadata": {},
   "outputs": [
    {
     "name": "stdout",
     "output_type": "stream",
     "text": [
      "# 설정되어있는 폰트 사이즈\n",
      "10.0\n",
      "# 설정되어있는 폰트 글꼴\n",
      "['sans-serif']\n"
     ]
    }
   ],
   "source": [
    "import matplotlib.pyplot as plt\n",
    "\n",
    "# size, family\n",
    "print('# 설정되어있는 폰트 사이즈')\n",
    "print (plt.rcParams['font.size'] ) \n",
    "print('# 설정되어있는 폰트 글꼴')\n",
    "print (plt.rcParams['font.family'] )"
   ]
  },
  {
   "cell_type": "code",
   "execution_count": 16,
   "metadata": {},
   "outputs": [
    {
     "name": "stdout",
     "output_type": "stream",
     "text": [
      "serif 세리프가 있는 폰트--------\n",
      "['DejaVu Serif', 'Bitstream Vera Serif', 'Computer Modern Roman', 'New Century Schoolbook', 'Century Schoolbook L', 'Utopia', 'ITC Bookman', 'Bookman', 'Nimbus Roman No9 L', 'Times New Roman', 'Times', 'Palatino', 'Charter', 'serif']\n",
      "sans-serif 세리프가 없는 폰트 --------\n",
      "['DejaVu Sans', 'Bitstream Vera Sans', 'Computer Modern Sans Serif', 'Lucida Grande', 'Verdana', 'Geneva', 'Lucid', 'Arial', 'Helvetica', 'Avant Garde', 'sans-serif']\n",
      "monospace 고정폭 글꼴--------\n",
      "['DejaVu Sans Mono', 'Bitstream Vera Sans Mono', 'Computer Modern Typewriter', 'Andale Mono', 'Nimbus Mono L', 'Courier New', 'Courier', 'Fixed', 'Terminal', 'monospace']\n"
     ]
    }
   ],
   "source": [
    "# serif, sans-serif, monospace\n",
    "print('serif 세리프가 있는 폰트--------')\n",
    "print (plt.rcParams['font.serif']) \n",
    "print('sans-serif 세리프가 없는 폰트 --------')\n",
    "print (plt.rcParams['font.sans-serif']) \n",
    "print('monospace 고정폭 글꼴--------')\n",
    "print (plt.rcParams['font.monospace'])"
   ]
  },
  {
   "cell_type": "code",
   "execution_count": 18,
   "metadata": {},
   "outputs": [],
   "source": [
    "# 나눔 글꼴은 font.family에서 찾을 수 없다고 나온디\n",
    "plt.rcParams['font.family'] = \"Malgun Gothic\"\n",
    "plt.rcParams['font.size'] = 20\n",
    "plt.rcParams['figure.figsize'] = (14,4)"
   ]
  },
  {
   "cell_type": "code",
   "execution_count": 19,
   "metadata": {},
   "outputs": [
    {
     "data": {
      "image/png": "[encoded data removed]",
      "text/plain": [
       "<Figure size 1008x288 with 1 Axes>"
      ]
     },
     "metadata": {},
     "output_type": "display_data"
    }
   ],
   "source": [
    "plt.plot(range(50), data, 'r')\n",
    "plt.title('시간별 가격 추이')\n",
    "plt.ylabel('주식 가격')\n",
    "plt.xlabel('시간(분)')\n",
    "plt.style.use('seaborn-pastel')\n",
    "plt.show()"
   ]
  },
  {
   "cell_type": "code",
   "execution_count": 17,
   "metadata": {},
   "outputs": [
    {
     "name": "stdout",
     "output_type": "stream",
     "text": [
      "Malgun Gothic\n"
     ]
    },
    {
     "data": {
      "image/png": "[encoded data removed]",
      "text/plain": [
       "<Figure size 432x288 with 1 Axes>"
      ]
     },
     "metadata": {
      "needs_background": "light"
     },
     "output_type": "display_data"
    }
   ],
   "source": [
    "# rcParams 대신 FontProperties 와 plt.rc 를 사용하는 방법\n",
    "\n",
    "path = 'C:/Windows/Fonts/malgun.ttf'\n",
    "font_name = fm.FontProperties(fname=path, size=30).get_name()\n",
    "print(font_name)\n",
    "plt.rc('font', family=font_name)\n",
    "\n",
    "fig, ax = plt.subplots()\n",
    "ax.plot(data)\n",
    "ax.set_title('시간별 가격 추이')\n",
    "plt.ylabel('주식 가격')\n",
    "plt.xlabel('시간(분)')\n",
    "plt.style.use('ggplot')\n",
    "plt.show()"
   ]
  },
  {
   "cell_type": "code",
   "execution_count": null,
   "metadata": {},
   "outputs": [],
   "source": []
  }
 ],
 "metadata": {
  "kernelspec": {
   "display_name": "Python 3",
   "language": "python",
   "name": "python3"
  },
  "language_info": {
   "codemirror_mode": {
    "name": "ipython",
    "version": 3
   },
   "file_extension": ".py",
   "mimetype": "text/x-python",
   "name": "python",
   "nbconvert_exporter": "python",
   "pygments_lexer": "ipython3",
   "version": "3.6.8"
  }
 },
 "nbformat": 4,
 "nbformat_minor": 2
}
