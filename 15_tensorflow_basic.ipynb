{
 "cells": [
  {
   "cell_type": "markdown",
   "metadata": {},
   "source": [
    "# 텐서플로우\n",
    "- 아직 PC에 텐서플로우를 깔지 않아 실행하진 않았다\n",
    "- 아래 내용은 구글 Colaboratory 테스트 노트북에서 이뤄졌다."
   ]
  },
  {
   "cell_type": "code",
   "execution_count": null,
   "metadata": {},
   "outputs": [],
   "source": [
    "# 기본 상수값 출력\n",
    "import tensorflow as tf\n",
    "t = tf.constant('Hellow Tensorflow~')\n",
    "\n",
    "with tf.Session() as sess:\n",
    "  print(sess.run(t))"
   ]
  },
  {
   "cell_type": "code",
   "execution_count": null,
   "metadata": {},
   "outputs": [],
   "source": [
    "# 텐서 합 (tf.add)\n",
    "x1 = tf.constant(3)\n",
    "x2 = tf.constant(8)\n",
    "sum = tf.add(x1, x2)\n",
    "\n",
    "with tf.Session() as sess:\n",
    "  print(sum.eval())"
   ]
  },
  {
   "cell_type": "code",
   "execution_count": null,
   "metadata": {},
   "outputs": [],
   "source": [
    "# 텐서 행렬곱 (tf.matmul)\n",
    "with tf.Graph().as_default():\n",
    "  # Create a matrix (2-d tensor) with 3 rows and 4 columns.\n",
    "  x = tf.constant([[5, 2, 4, 3], [5, 1, 6, -2], [-1, 3, -1, -2]],\n",
    "                  dtype=tf.int32)\n",
    "\n",
    "  # Create a matrix with 4 rows and 2 columns.\n",
    "  y = tf.constant([[2, 2], [3, 5], [4, 5], [1, 6]], dtype=tf.int32)\n",
    "\n",
    "  # Multiply `x` by `y`. \n",
    "  # The resulting matrix will have 3 rows and 2 columns.\n",
    "  matrix_multiply_result = tf.matmul(x, y)\n",
    "\n",
    "  with tf.Session() as sess:\n",
    "    print(matrix_multiply_result.eval())"
   ]
  },
  {
   "cell_type": "code",
   "execution_count": null,
   "metadata": {},
   "outputs": [],
   "source": [
    "# variable인 경우에 초기화를 진행한다.\n",
    "# sess.run() 으로 초기화 해주어야 한다.\n",
    "with tf.Graph().as_default():\n",
    "  v1 = tf.Variable([2])\n",
    "  w1 = tf.Variable(tf.random_normal([1], mean=1.0, stddev=0.35))\n",
    "  \n",
    "  with tf.Session() as sess:\n",
    "    initialization = tf.global_variables_initializer()\n",
    "    sess.run(initialization)\n",
    "    \n",
    "    print(v1.eval())\n",
    "    print(w1.eval())"
   ]
  },
  {
   "cell_type": "code",
   "execution_count": null,
   "metadata": {},
   "outputs": [],
   "source": [
    "# variable에 값을 새로 할당하는 것\n",
    "# 할당도 sess.run()을 실행해야 값이 할당된다\n",
    "with tf.Graph().as_default():\n",
    "  v1 = tf.Variable([2])\n",
    "  w1 = tf.Variable(tf.random_normal([1], mean=1.0, stddev=0.35))\n",
    "  \n",
    "  with tf.Session() as sess:\n",
    "    initialization = tf.global_variables_initializer()\n",
    "    sess.run(initialization)\n",
    "    \n",
    "    print(v1.eval())\n",
    "    print(w1.eval())\n",
    "    \n",
    "    assignment = tf.assign(v1, [8])\n",
    "    print(v1.eval())\n",
    "    \n",
    "    sess.run(assignment)\n",
    "    print(v1.eval())"
   ]
  }
 ],
 "metadata": {
  "kernelspec": {
   "display_name": "Python 3",
   "language": "python",
   "name": "python3"
  },
  "language_info": {
   "codemirror_mode": {
    "name": "ipython",
    "version": 3
   },
   "file_extension": ".py",
   "mimetype": "text/x-python",
   "name": "python",
   "nbconvert_exporter": "python",
   "pygments_lexer": "ipython3",
   "version": "3.6.8"
  }
 },
 "nbformat": 4,
 "nbformat_minor": 2
}
