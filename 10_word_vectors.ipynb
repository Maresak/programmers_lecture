{
 "cells": [
  {
   "cell_type": "markdown",
   "metadata": {},
   "source": [
    "# 튜토리얼 파트 2 Word Vectors\n",
    "- 딥러닝 기법인 Word2Vec을 통해 단어를 벡터화해본다.\n",
    "- t-SNE를 통해 벡터화한 데이터를 시각화해본다.\n",
    "- 딥러닝과 지도학습의 랜덤포레스트를 사용하는 하이브리드 방식을 사용한다."
   ]
  },
  {
   "cell_type": "markdown",
   "metadata": {},
   "source": [
    "# Word2Vec(Word Embedding to Vector)\n",
    "### Gensim을 이용한다 (토픽 모델링 지원하는 패키지)"
   ]
  },
  {
   "cell_type": "code",
   "execution_count": 1,
   "metadata": {},
   "outputs": [],
   "source": [
    "# 출력이 너무 길어지지 않게 하기 위해 찍지 않도록 했으나\n",
    "# 실제 학습할 때는 아래 두 줄을 주석처리 하는 것을 권장한다.\n",
    "import warnings\n",
    "warnings.filterwarnings('ignore')"
   ]
  },
  {
   "cell_type": "code",
   "execution_count": 2,
   "metadata": {},
   "outputs": [
    {
     "name": "stdout",
     "output_type": "stream",
     "text": [
      "(25000, 3)\n",
      "(25000, 2)\n",
      "(50000, 2)\n",
      "25000\n",
      "25000\n",
      "50000\n"
     ]
    }
   ],
   "source": [
    "import pandas as pd\n",
    "\n",
    "train = pd.read_csv('word_tutorial/labeledTrainData.tsv', header=0, delimiter='\\t', quoting=3)\n",
    "test = pd.read_csv('word_tutorial/testData.tsv', header=0, delimiter='\\t', quoting=3)\n",
    "unlabeled_train = pd.read_csv('word_tutorial/unlabeledTrainData.tsv', header=0, delimiter='\\t', quoting=3)\n",
    "\n",
    "print(train.shape)\n",
    "print(test.shape)\n",
    "print(unlabeled_train.shape)\n",
    "\n",
    "print(train['review'].size)\n",
    "print(test['review'].size)\n",
    "print(unlabeled_train['review'].size)"
   ]
  },
  {
   "cell_type": "code",
   "execution_count": 3,
   "metadata": {},
   "outputs": [
    {
     "data": {
      "text/plain": [
       "['with', 'all', 'this', 'stuff', 'go']"
      ]
     },
     "execution_count": 3,
     "metadata": {},
     "output_type": "execute_result"
    }
   ],
   "source": [
    "from KaggleWord2VecUtility import KaggleWord2VecUtility\n",
    "\n",
    "KaggleWord2VecUtility.review_to_wordlist(train['review'][0])[:5]"
   ]
  },
  {
   "cell_type": "code",
   "execution_count": 4,
   "metadata": {},
   "outputs": [],
   "source": [
    "sentences = []\n",
    "for review in train['review']:\n",
    "    sentences += KaggleWord2VecUtility.review_to_sentences(review, remove_stopwords=False)\n",
    "for review in unlabeled_train[\"review\"]:\n",
    "    sentences += KaggleWord2VecUtility.review_to_sentences(review, remove_stopwords=False)"
   ]
  },
  {
   "cell_type": "code",
   "execution_count": 6,
   "metadata": {},
   "outputs": [
    {
     "data": {
      "text/plain": [
       "['with', 'all', 'this', 'stuff', 'go', 'down', 'at', 'the', 'moment', 'with']"
      ]
     },
     "execution_count": 6,
     "metadata": {},
     "output_type": "execute_result"
    }
   ],
   "source": [
    "sentences[0][:10]"
   ]
  },
  {
   "cell_type": "code",
   "execution_count": 7,
   "metadata": {},
   "outputs": [
    {
     "data": {
      "text/plain": [
       "['mayb', 'i', 'just', 'want', 'to', 'get', 'a', 'certain', 'insight', 'into']"
      ]
     },
     "execution_count": 7,
     "metadata": {},
     "output_type": "execute_result"
    }
   ],
   "source": [
    "sentences[1][:10]"
   ]
  },
  {
   "cell_type": "code",
   "execution_count": 9,
   "metadata": {},
   "outputs": [
    {
     "data": {
      "text/plain": [
       "795538"
      ]
     },
     "execution_count": 9,
     "metadata": {},
     "output_type": "execute_result"
    }
   ],
   "source": [
    "len(sentences)"
   ]
  },
  {
   "cell_type": "markdown",
   "metadata": {},
   "source": [
    "## Gensim을 통한 벡터화 & t-SNE로 시각화\n",
    "- 위에서 전처리한 것은 stopword를 제거하지 않았다"
   ]
  },
  {
   "cell_type": "code",
   "execution_count": 10,
   "metadata": {},
   "outputs": [],
   "source": [
    "import logging\n",
    "logging.basicConfig(\n",
    "    format='%(asctime)s : %(levelname)s : %(message)s',\n",
    "    level=logging.INFO\n",
    ")"
   ]
  },
  {
   "cell_type": "code",
   "execution_count": 11,
   "metadata": {},
   "outputs": [],
   "source": [
    "# 파라메터값 지정\n",
    "num_features = 300 # 문자 벡터 차원 수\n",
    "min_word_count = 40 # 최소 문자 수\n",
    "num_workers = 4 # 병렬 처리 스레드 수\n",
    "context = 10 # 문자열 창 크기\n",
    "downsampling = 1e-3 # 문자 빈도수 Downsample"
   ]
  },
  {
   "cell_type": "code",
   "execution_count": 12,
   "metadata": {},
   "outputs": [
    {
     "name": "stderr",
     "output_type": "stream",
     "text": [
      "2019-03-14 13:08:57,719 : INFO : collecting all words and their counts\n",
      "2019-03-14 13:08:57,721 : INFO : PROGRESS: at sentence #0, processed 0 words, keeping 0 word types\n",
      "2019-03-14 13:08:57,756 : INFO : PROGRESS: at sentence #10000, processed 225803 words, keeping 12465 word types\n",
      "2019-03-14 13:08:57,790 : INFO : PROGRESS: at sentence #20000, processed 451892 words, keeping 17070 word types\n",
      "2019-03-14 13:08:57,821 : INFO : PROGRESS: at sentence #30000, processed 671314 words, keeping 20370 word types\n",
      "2019-03-14 13:08:57,856 : INFO : PROGRESS: at sentence #40000, processed 897814 words, keeping 23125 word types\n",
      "2019-03-14 13:08:57,889 : INFO : PROGRESS: at sentence #50000, processed 1116962 words, keeping 25365 word types\n",
      "2019-03-14 13:08:57,921 : INFO : PROGRESS: at sentence #60000, processed 1338403 words, keeping 27283 word types\n",
      "2019-03-14 13:08:57,955 : INFO : PROGRESS: at sentence #70000, processed 1561579 words, keeping 29024 word types\n",
      "2019-03-14 13:08:57,988 : INFO : PROGRESS: at sentence #80000, processed 1780886 words, keeping 30603 word types\n",
      "2019-03-14 13:08:58,023 : INFO : PROGRESS: at sentence #90000, processed 2004995 words, keeping 32223 word types\n",
      "2019-03-14 13:08:58,056 : INFO : PROGRESS: at sentence #100000, processed 2226966 words, keeping 33579 word types\n",
      "2019-03-14 13:08:58,088 : INFO : PROGRESS: at sentence #110000, processed 2446580 words, keeping 34827 word types\n",
      "2019-03-14 13:08:58,120 : INFO : PROGRESS: at sentence #120000, processed 2668775 words, keeping 36183 word types\n",
      "2019-03-14 13:08:58,153 : INFO : PROGRESS: at sentence #130000, processed 2894303 words, keeping 37353 word types\n",
      "2019-03-14 13:08:58,185 : INFO : PROGRESS: at sentence #140000, processed 3107005 words, keeping 38376 word types\n",
      "2019-03-14 13:08:58,219 : INFO : PROGRESS: at sentence #150000, processed 3332627 words, keeping 39556 word types\n",
      "2019-03-14 13:08:58,251 : INFO : PROGRESS: at sentence #160000, processed 3555315 words, keeping 40629 word types\n",
      "2019-03-14 13:08:58,286 : INFO : PROGRESS: at sentence #170000, processed 3778655 words, keeping 41628 word types\n",
      "2019-03-14 13:08:58,320 : INFO : PROGRESS: at sentence #180000, processed 3999236 words, keeping 42599 word types\n",
      "2019-03-14 13:08:58,352 : INFO : PROGRESS: at sentence #190000, processed 4224449 words, keeping 43461 word types\n",
      "2019-03-14 13:08:58,389 : INFO : PROGRESS: at sentence #200000, processed 4448603 words, keeping 44301 word types\n",
      "2019-03-14 13:08:58,422 : INFO : PROGRESS: at sentence #210000, processed 4669967 words, keeping 45212 word types\n",
      "2019-03-14 13:08:58,453 : INFO : PROGRESS: at sentence #220000, processed 4894968 words, keeping 46134 word types\n",
      "2019-03-14 13:08:58,485 : INFO : PROGRESS: at sentence #230000, processed 5117546 words, keeping 46986 word types\n",
      "2019-03-14 13:08:58,520 : INFO : PROGRESS: at sentence #240000, processed 5345051 words, keeping 47854 word types\n",
      "2019-03-14 13:08:58,550 : INFO : PROGRESS: at sentence #250000, processed 5559166 words, keeping 48699 word types\n",
      "2019-03-14 13:08:58,583 : INFO : PROGRESS: at sentence #260000, processed 5779147 words, keeping 49469 word types\n",
      "2019-03-14 13:08:58,615 : INFO : PROGRESS: at sentence #270000, processed 6000436 words, keeping 50416 word types\n",
      "2019-03-14 13:08:58,648 : INFO : PROGRESS: at sentence #280000, processed 6226315 words, keeping 51640 word types\n",
      "2019-03-14 13:08:58,683 : INFO : PROGRESS: at sentence #290000, processed 6449475 words, keeping 52754 word types\n",
      "2019-03-14 13:08:58,715 : INFO : PROGRESS: at sentence #300000, processed 6674078 words, keeping 53755 word types\n",
      "2019-03-14 13:08:58,748 : INFO : PROGRESS: at sentence #310000, processed 6899392 words, keeping 54734 word types\n",
      "2019-03-14 13:08:58,782 : INFO : PROGRESS: at sentence #320000, processed 7124279 words, keeping 55770 word types\n",
      "2019-03-14 13:08:58,814 : INFO : PROGRESS: at sentence #330000, processed 7346022 words, keeping 56687 word types\n",
      "2019-03-14 13:08:58,851 : INFO : PROGRESS: at sentence #340000, processed 7575534 words, keeping 57629 word types\n",
      "2019-03-14 13:08:58,882 : INFO : PROGRESS: at sentence #350000, processed 7798804 words, keeping 58485 word types\n",
      "2019-03-14 13:08:58,915 : INFO : PROGRESS: at sentence #360000, processed 8019467 words, keeping 59345 word types\n",
      "2019-03-14 13:08:58,948 : INFO : PROGRESS: at sentence #370000, processed 8246659 words, keeping 60161 word types\n",
      "2019-03-14 13:08:58,984 : INFO : PROGRESS: at sentence #380000, processed 8471806 words, keeping 61069 word types\n",
      "2019-03-14 13:08:59,016 : INFO : PROGRESS: at sentence #390000, processed 8701556 words, keeping 61810 word types\n",
      "2019-03-14 13:08:59,049 : INFO : PROGRESS: at sentence #400000, processed 8924505 words, keeping 62546 word types\n",
      "2019-03-14 13:08:59,082 : INFO : PROGRESS: at sentence #410000, processed 9145855 words, keeping 63263 word types\n",
      "2019-03-14 13:08:59,114 : INFO : PROGRESS: at sentence #420000, processed 9366935 words, keeping 64024 word types\n",
      "2019-03-14 13:08:59,147 : INFO : PROGRESS: at sentence #430000, processed 9594472 words, keeping 64795 word types\n",
      "2019-03-14 13:08:59,181 : INFO : PROGRESS: at sentence #440000, processed 9821225 words, keeping 65539 word types\n",
      "2019-03-14 13:08:59,217 : INFO : PROGRESS: at sentence #450000, processed 10044987 words, keeping 66378 word types\n",
      "2019-03-14 13:08:59,252 : INFO : PROGRESS: at sentence #460000, processed 10277747 words, keeping 67158 word types\n",
      "2019-03-14 13:08:59,286 : INFO : PROGRESS: at sentence #470000, processed 10505672 words, keeping 67775 word types\n",
      "2019-03-14 13:08:59,319 : INFO : PROGRESS: at sentence #480000, processed 10726056 words, keeping 68500 word types\n",
      "2019-03-14 13:08:59,353 : INFO : PROGRESS: at sentence #490000, processed 10952800 words, keeping 69256 word types\n",
      "2019-03-14 13:08:59,386 : INFO : PROGRESS: at sentence #500000, processed 11174456 words, keeping 69892 word types\n",
      "2019-03-14 13:08:59,420 : INFO : PROGRESS: at sentence #510000, processed 11399731 words, keeping 70593 word types\n",
      "2019-03-14 13:08:59,454 : INFO : PROGRESS: at sentence #520000, processed 11623082 words, keeping 71267 word types\n",
      "2019-03-14 13:08:59,487 : INFO : PROGRESS: at sentence #530000, processed 11847480 words, keeping 71877 word types\n",
      "2019-03-14 13:08:59,521 : INFO : PROGRESS: at sentence #540000, processed 12072095 words, keeping 72537 word types\n",
      "2019-03-14 13:08:59,557 : INFO : PROGRESS: at sentence #550000, processed 12297646 words, keeping 73212 word types\n",
      "2019-03-14 13:08:59,590 : INFO : PROGRESS: at sentence #560000, processed 12518936 words, keeping 73861 word types\n",
      "2019-03-14 13:08:59,623 : INFO : PROGRESS: at sentence #570000, processed 12748083 words, keeping 74431 word types\n",
      "2019-03-14 13:08:59,656 : INFO : PROGRESS: at sentence #580000, processed 12969579 words, keeping 75087 word types\n",
      "2019-03-14 13:08:59,691 : INFO : PROGRESS: at sentence #590000, processed 13195103 words, keeping 75734 word types\n",
      "2019-03-14 13:08:59,725 : INFO : PROGRESS: at sentence #600000, processed 13417301 words, keeping 76295 word types\n",
      "2019-03-14 13:08:59,759 : INFO : PROGRESS: at sentence #610000, processed 13638324 words, keeping 76953 word types\n",
      "2019-03-14 13:08:59,793 : INFO : PROGRESS: at sentence #620000, processed 13864649 words, keeping 77504 word types\n",
      "2019-03-14 13:08:59,828 : INFO : PROGRESS: at sentence #630000, processed 14088935 words, keeping 78067 word types\n",
      "2019-03-14 13:08:59,862 : INFO : PROGRESS: at sentence #640000, processed 14309718 words, keeping 78693 word types\n",
      "2019-03-14 13:08:59,895 : INFO : PROGRESS: at sentence #650000, processed 14535474 words, keeping 79296 word types\n",
      "2019-03-14 13:08:59,931 : INFO : PROGRESS: at sentence #660000, processed 14758264 words, keeping 79865 word types\n",
      "2019-03-14 13:08:59,963 : INFO : PROGRESS: at sentence #670000, processed 14981657 words, keeping 80382 word types\n",
      "2019-03-14 13:08:59,996 : INFO : PROGRESS: at sentence #680000, processed 15206489 words, keeping 80913 word types\n",
      "2019-03-14 13:09:00,033 : INFO : PROGRESS: at sentence #690000, processed 15428682 words, keeping 81483 word types\n",
      "2019-03-14 13:09:00,069 : INFO : PROGRESS: at sentence #700000, processed 15657388 words, keeping 82075 word types\n",
      "2019-03-14 13:09:00,106 : INFO : PROGRESS: at sentence #710000, processed 15880377 words, keeping 82561 word types\n"
     ]
    },
    {
     "name": "stderr",
     "output_type": "stream",
     "text": [
      "2019-03-14 13:09:00,142 : INFO : PROGRESS: at sentence #720000, processed 16105664 words, keeping 83037 word types\n",
      "2019-03-14 13:09:00,180 : INFO : PROGRESS: at sentence #730000, processed 16332045 words, keeping 83572 word types\n",
      "2019-03-14 13:09:00,217 : INFO : PROGRESS: at sentence #740000, processed 16553078 words, keeping 84128 word types\n",
      "2019-03-14 13:09:00,254 : INFO : PROGRESS: at sentence #750000, processed 16771405 words, keeping 84600 word types\n",
      "2019-03-14 13:09:00,289 : INFO : PROGRESS: at sentence #760000, processed 16990809 words, keeping 85069 word types\n",
      "2019-03-14 13:09:00,326 : INFO : PROGRESS: at sentence #770000, processed 17217946 words, keeping 85645 word types\n",
      "2019-03-14 13:09:00,364 : INFO : PROGRESS: at sentence #780000, processed 17448092 words, keeping 86161 word types\n",
      "2019-03-14 13:09:00,400 : INFO : PROGRESS: at sentence #790000, processed 17675168 words, keeping 86666 word types\n",
      "2019-03-14 13:09:00,420 : INFO : collected 86997 word types from a corpus of 17798269 raw words and 795538 sentences\n",
      "2019-03-14 13:09:00,421 : INFO : Loading a fresh vocabulary\n",
      "2019-03-14 13:09:00,462 : INFO : effective_min_count=40 retains 11986 unique words (13% of original 86997, drops 75011)\n",
      "2019-03-14 13:09:00,463 : INFO : effective_min_count=40 leaves 17434031 word corpus (97% of original 17798269, drops 364238)\n",
      "2019-03-14 13:09:00,492 : INFO : deleting the raw counts dictionary of 86997 items\n",
      "2019-03-14 13:09:00,494 : INFO : sample=0.001 downsamples 50 most-common words\n",
      "2019-03-14 13:09:00,495 : INFO : downsampling leaves estimated 12872362 word corpus (73.8% of prior 17434031)\n",
      "2019-03-14 13:09:00,522 : INFO : estimated required memory for 11986 words and 300 dimensions: 34759400 bytes\n",
      "2019-03-14 13:09:00,523 : INFO : resetting layer weights\n",
      "2019-03-14 13:09:00,659 : INFO : training model with 4 workers on 11986 vocabulary and 300 features, using sg=0 hs=0 sample=0.001 negative=5 window=10\n",
      "2019-03-14 13:09:01,667 : INFO : EPOCH 1 - PROGRESS: at 11.08% examples, 1419831 words/s, in_qsize 7, out_qsize 0\n",
      "2019-03-14 13:09:02,669 : INFO : EPOCH 1 - PROGRESS: at 22.53% examples, 1437880 words/s, in_qsize 8, out_qsize 0\n",
      "2019-03-14 13:09:03,671 : INFO : EPOCH 1 - PROGRESS: at 34.16% examples, 1453185 words/s, in_qsize 7, out_qsize 0\n",
      "2019-03-14 13:09:04,672 : INFO : EPOCH 1 - PROGRESS: at 45.40% examples, 1452152 words/s, in_qsize 8, out_qsize 0\n",
      "2019-03-14 13:09:05,673 : INFO : EPOCH 1 - PROGRESS: at 56.27% examples, 1443057 words/s, in_qsize 8, out_qsize 0\n",
      "2019-03-14 13:09:06,674 : INFO : EPOCH 1 - PROGRESS: at 67.06% examples, 1435987 words/s, in_qsize 7, out_qsize 0\n",
      "2019-03-14 13:09:07,679 : INFO : EPOCH 1 - PROGRESS: at 78.43% examples, 1439114 words/s, in_qsize 7, out_qsize 0\n",
      "2019-03-14 13:09:08,679 : INFO : EPOCH 1 - PROGRESS: at 90.02% examples, 1446010 words/s, in_qsize 7, out_qsize 0\n",
      "2019-03-14 13:09:09,535 : INFO : worker thread finished; awaiting finish of 3 more threads\n",
      "2019-03-14 13:09:09,538 : INFO : worker thread finished; awaiting finish of 2 more threads\n",
      "2019-03-14 13:09:09,548 : INFO : worker thread finished; awaiting finish of 1 more threads\n",
      "2019-03-14 13:09:09,550 : INFO : worker thread finished; awaiting finish of 0 more threads\n",
      "2019-03-14 13:09:09,551 : INFO : EPOCH - 1 : training on 17798269 raw words (12873377 effective words) took 8.9s, 1448710 effective words/s\n",
      "2019-03-14 13:09:10,558 : INFO : EPOCH 2 - PROGRESS: at 11.38% examples, 1456544 words/s, in_qsize 7, out_qsize 0\n",
      "2019-03-14 13:09:11,566 : INFO : EPOCH 2 - PROGRESS: at 23.09% examples, 1469923 words/s, in_qsize 7, out_qsize 0\n",
      "2019-03-14 13:09:12,572 : INFO : EPOCH 2 - PROGRESS: at 34.82% examples, 1476442 words/s, in_qsize 8, out_qsize 0\n",
      "2019-03-14 13:09:13,575 : INFO : EPOCH 2 - PROGRESS: at 46.50% examples, 1483553 words/s, in_qsize 7, out_qsize 0\n",
      "2019-03-14 13:09:14,578 : INFO : EPOCH 2 - PROGRESS: at 57.90% examples, 1481675 words/s, in_qsize 8, out_qsize 0\n",
      "2019-03-14 13:09:15,581 : INFO : EPOCH 2 - PROGRESS: at 69.70% examples, 1487917 words/s, in_qsize 8, out_qsize 0\n",
      "2019-03-14 13:09:16,583 : INFO : EPOCH 2 - PROGRESS: at 81.64% examples, 1494548 words/s, in_qsize 8, out_qsize 0\n",
      "2019-03-14 13:09:17,585 : INFO : EPOCH 2 - PROGRESS: at 93.46% examples, 1497840 words/s, in_qsize 7, out_qsize 0\n",
      "2019-03-14 13:09:18,118 : INFO : worker thread finished; awaiting finish of 3 more threads\n",
      "2019-03-14 13:09:18,121 : INFO : worker thread finished; awaiting finish of 2 more threads\n",
      "2019-03-14 13:09:18,131 : INFO : worker thread finished; awaiting finish of 1 more threads\n",
      "2019-03-14 13:09:18,132 : INFO : worker thread finished; awaiting finish of 0 more threads\n",
      "2019-03-14 13:09:18,133 : INFO : EPOCH - 2 : training on 17798269 raw words (12870950 effective words) took 8.6s, 1500629 effective words/s\n",
      "2019-03-14 13:09:19,141 : INFO : EPOCH 3 - PROGRESS: at 11.84% examples, 1511473 words/s, in_qsize 7, out_qsize 0\n",
      "2019-03-14 13:09:20,146 : INFO : EPOCH 3 - PROGRESS: at 23.60% examples, 1503334 words/s, in_qsize 7, out_qsize 0\n",
      "2019-03-14 13:09:21,147 : INFO : EPOCH 3 - PROGRESS: at 35.56% examples, 1511552 words/s, in_qsize 7, out_qsize 0\n",
      "2019-03-14 13:09:22,148 : INFO : EPOCH 3 - PROGRESS: at 47.28% examples, 1512028 words/s, in_qsize 8, out_qsize 0\n",
      "2019-03-14 13:09:23,154 : INFO : EPOCH 3 - PROGRESS: at 58.95% examples, 1511192 words/s, in_qsize 8, out_qsize 0\n",
      "2019-03-14 13:09:24,155 : INFO : EPOCH 3 - PROGRESS: at 70.93% examples, 1516481 words/s, in_qsize 7, out_qsize 0\n",
      "2019-03-14 13:09:25,161 : INFO : EPOCH 3 - PROGRESS: at 82.77% examples, 1516221 words/s, in_qsize 7, out_qsize 0\n",
      "2019-03-14 13:09:26,163 : INFO : EPOCH 3 - PROGRESS: at 94.71% examples, 1518642 words/s, in_qsize 7, out_qsize 0\n",
      "2019-03-14 13:09:26,597 : INFO : worker thread finished; awaiting finish of 3 more threads\n",
      "2019-03-14 13:09:26,599 : INFO : worker thread finished; awaiting finish of 2 more threads\n",
      "2019-03-14 13:09:26,602 : INFO : worker thread finished; awaiting finish of 1 more threads\n",
      "2019-03-14 13:09:26,611 : INFO : worker thread finished; awaiting finish of 0 more threads\n",
      "2019-03-14 13:09:26,612 : INFO : EPOCH - 3 : training on 17798269 raw words (12871843 effective words) took 8.5s, 1518997 effective words/s\n",
      "2019-03-14 13:09:27,617 : INFO : EPOCH 4 - PROGRESS: at 11.26% examples, 1444374 words/s, in_qsize 8, out_qsize 0\n",
      "2019-03-14 13:09:28,618 : INFO : EPOCH 4 - PROGRESS: at 22.42% examples, 1432766 words/s, in_qsize 8, out_qsize 0\n",
      "2019-03-14 13:09:29,629 : INFO : EPOCH 4 - PROGRESS: at 33.72% examples, 1430687 words/s, in_qsize 7, out_qsize 0\n",
      "2019-03-14 13:09:30,630 : INFO : EPOCH 4 - PROGRESS: at 44.84% examples, 1432074 words/s, in_qsize 7, out_qsize 0\n",
      "2019-03-14 13:09:31,633 : INFO : EPOCH 4 - PROGRESS: at 55.89% examples, 1430510 words/s, in_qsize 7, out_qsize 0\n",
      "2019-03-14 13:09:32,634 : INFO : EPOCH 4 - PROGRESS: at 66.95% examples, 1431109 words/s, in_qsize 7, out_qsize 0\n",
      "2019-03-14 13:09:33,639 : INFO : EPOCH 4 - PROGRESS: at 78.15% examples, 1432059 words/s, in_qsize 7, out_qsize 0\n",
      "2019-03-14 13:09:34,642 : INFO : EPOCH 4 - PROGRESS: at 89.37% examples, 1432885 words/s, in_qsize 7, out_qsize 0\n",
      "2019-03-14 13:09:35,572 : INFO : worker thread finished; awaiting finish of 3 more threads\n",
      "2019-03-14 13:09:35,584 : INFO : worker thread finished; awaiting finish of 2 more threads\n",
      "2019-03-14 13:09:35,585 : INFO : worker thread finished; awaiting finish of 1 more threads\n",
      "2019-03-14 13:09:35,588 : INFO : worker thread finished; awaiting finish of 0 more threads\n",
      "2019-03-14 13:09:35,589 : INFO : EPOCH - 4 : training on 17798269 raw words (12870767 effective words) took 9.0s, 1434438 effective words/s\n",
      "2019-03-14 13:09:36,595 : INFO : EPOCH 5 - PROGRESS: at 11.26% examples, 1443126 words/s, in_qsize 7, out_qsize 0\n",
      "2019-03-14 13:09:37,596 : INFO : EPOCH 5 - PROGRESS: at 22.76% examples, 1453754 words/s, in_qsize 8, out_qsize 0\n",
      "2019-03-14 13:09:38,600 : INFO : EPOCH 5 - PROGRESS: at 34.16% examples, 1452645 words/s, in_qsize 8, out_qsize 0\n",
      "2019-03-14 13:09:39,606 : INFO : EPOCH 5 - PROGRESS: at 45.55% examples, 1455914 words/s, in_qsize 8, out_qsize 0\n",
      "2019-03-14 13:09:40,608 : INFO : EPOCH 5 - PROGRESS: at 56.77% examples, 1453985 words/s, in_qsize 7, out_qsize 0\n",
      "2019-03-14 13:09:41,610 : INFO : EPOCH 5 - PROGRESS: at 67.81% examples, 1449482 words/s, in_qsize 7, out_qsize 0\n"
     ]
    },
    {
     "name": "stderr",
     "output_type": "stream",
     "text": [
      "2019-03-14 13:09:42,614 : INFO : EPOCH 5 - PROGRESS: at 79.01% examples, 1448043 words/s, in_qsize 7, out_qsize 0\n",
      "2019-03-14 13:09:43,620 : INFO : EPOCH 5 - PROGRESS: at 90.48% examples, 1450892 words/s, in_qsize 7, out_qsize 0\n",
      "2019-03-14 13:09:44,436 : INFO : worker thread finished; awaiting finish of 3 more threads\n",
      "2019-03-14 13:09:44,438 : INFO : worker thread finished; awaiting finish of 2 more threads\n",
      "2019-03-14 13:09:44,440 : INFO : worker thread finished; awaiting finish of 1 more threads\n",
      "2019-03-14 13:09:44,442 : INFO : worker thread finished; awaiting finish of 0 more threads\n",
      "2019-03-14 13:09:44,443 : INFO : EPOCH - 5 : training on 17798269 raw words (12870996 effective words) took 8.8s, 1454473 effective words/s\n",
      "2019-03-14 13:09:44,444 : INFO : training on a 88991345 raw words (64357933 effective words) took 43.8s, 1469880 effective words/s\n"
     ]
    },
    {
     "data": {
      "text/plain": [
       "<gensim.models.word2vec.Word2Vec at 0x1f4854817f0>"
      ]
     },
     "execution_count": 12,
     "metadata": {},
     "output_type": "execute_result"
    }
   ],
   "source": [
    "# 초기화 및 모델 학습\n",
    "from gensim.models import word2vec\n",
    "\n",
    "model = word2vec.Word2Vec(sentences,\n",
    "                         workers=num_workers,\n",
    "                         size=num_features,\n",
    "                         min_count=min_word_count,\n",
    "                         window=context,\n",
    "                         sample=downsampling)\n",
    "model"
   ]
  },
  {
   "cell_type": "code",
   "execution_count": 13,
   "metadata": {},
   "outputs": [
    {
     "name": "stderr",
     "output_type": "stream",
     "text": [
      "2019-03-14 13:13:59,969 : INFO : precomputing L2-norms of word weight vectors\n",
      "2019-03-14 13:13:59,990 : INFO : saving Word2Vec object under 300features_40minwords_10text, separately None\n",
      "2019-03-14 13:13:59,991 : INFO : not storing attribute vectors_norm\n",
      "2019-03-14 13:13:59,992 : INFO : not storing attribute cum_table\n",
      "2019-03-14 13:14:00,492 : INFO : saved 300features_40minwords_10text\n"
     ]
    }
   ],
   "source": [
    "# 학습 완료 후 필요없는 메모리 unload\n",
    "model.init_sims(replace=True)\n",
    "\n",
    "model_name = '300features_40minwords_10text'\n",
    "model.save(model_name)"
   ]
  },
  {
   "cell_type": "code",
   "execution_count": 14,
   "metadata": {},
   "outputs": [
    {
     "data": {
      "text/plain": [
       "'kitchen'"
      ]
     },
     "execution_count": 14,
     "metadata": {},
     "output_type": "execute_result"
    }
   ],
   "source": [
    "# 유사도 없는 단어 추출\n",
    "model.wv.doesnt_match('man woman child kitchen'.split())"
   ]
  },
  {
   "cell_type": "code",
   "execution_count": 15,
   "metadata": {},
   "outputs": [
    {
     "name": "stderr",
     "output_type": "stream",
     "text": [
      "2019-03-14 13:16:45,194 : WARNING : vectors for words {'france', 'germany'} are not present in the model, ignoring these words\n"
     ]
    },
    {
     "data": {
      "text/plain": [
       "'berlin'"
      ]
     },
     "execution_count": 15,
     "metadata": {},
     "output_type": "execute_result"
    }
   ],
   "source": [
    "model.wv.doesnt_match('france england germany berlin'.split())"
   ]
  },
  {
   "cell_type": "code",
   "execution_count": 16,
   "metadata": {},
   "outputs": [
    {
     "data": {
      "text/plain": [
       "[('woman', 0.6332959532737732),\n",
       " ('lad', 0.5276625156402588),\n",
       " ('millionair', 0.514537513256073),\n",
       " ('farmer', 0.506432831287384),\n",
       " ('businessman', 0.4913541376590729),\n",
       " ('boxer', 0.4861315190792084),\n",
       " ('ladi', 0.4743949770927429),\n",
       " ('priest', 0.4690653383731842),\n",
       " ('men', 0.4674462080001831),\n",
       " ('policeman', 0.46304458379745483)]"
      ]
     },
     "execution_count": 16,
     "metadata": {},
     "output_type": "execute_result"
    }
   ],
   "source": [
    "# 가장 유사한 단어 추출\n",
    "model.wv.most_similar('man')"
   ]
  },
  {
   "cell_type": "code",
   "execution_count": 18,
   "metadata": {},
   "outputs": [
    {
     "data": {
      "text/plain": [
       "[('princess', 0.6295856237411499),\n",
       " ('latifah', 0.5911381244659424),\n",
       " ('eva', 0.5628272294998169),\n",
       " ('regina', 0.5413604974746704),\n",
       " ('stepmoth', 0.5412742495536804),\n",
       " ('bombshel', 0.5377334952354431),\n",
       " ('mistress', 0.53016197681427),\n",
       " ('goddess', 0.5266472101211548),\n",
       " ('maid', 0.5260616540908813),\n",
       " ('sylvia', 0.5216807126998901)]"
      ]
     },
     "execution_count": 18,
     "metadata": {},
     "output_type": "execute_result"
    }
   ],
   "source": [
    "model.wv.most_similar('queen')"
   ]
  },
  {
   "cell_type": "code",
   "execution_count": 20,
   "metadata": {},
   "outputs": [
    {
     "data": {
      "text/plain": [
       "[('unhappi', 0.43127742409706116),\n",
       " ('satisfi', 0.4017369747161865),\n",
       " ('afraid', 0.39621713757514954),\n",
       " ('upset', 0.3915581703186035),\n",
       " ('bitter', 0.3874311149120331),\n",
       " ('glad', 0.3860302269458771),\n",
       " ('lucki', 0.38448530435562134),\n",
       " ('sad', 0.37408578395843506),\n",
       " ('optimist', 0.36934807896614075),\n",
       " ('sadden', 0.35940665006637573)]"
      ]
     },
     "execution_count": 20,
     "metadata": {},
     "output_type": "execute_result"
    }
   ],
   "source": [
    "# 스테밍 처리\n",
    "# model.wv.most_similar('happy')\n",
    "model.wv.most_similar('happi')"
   ]
  },
  {
   "cell_type": "markdown",
   "metadata": {},
   "source": [
    "## Word2Vec으로 벡터화 한 단어를 t-SNE 를 통해 시각화"
   ]
  },
  {
   "cell_type": "code",
   "execution_count": 21,
   "metadata": {},
   "outputs": [
    {
     "name": "stderr",
     "output_type": "stream",
     "text": [
      "2019-03-14 13:23:48,025 : INFO : loading Doc2Vec object from 300features_40minwords_10text\n",
      "2019-03-14 13:23:48,199 : INFO : loading wv recursively from 300features_40minwords_10text.wv.* with mmap=None\n",
      "2019-03-14 13:23:48,200 : INFO : setting ignored attribute vectors_norm to None\n",
      "2019-03-14 13:23:48,200 : INFO : loading vocabulary recursively from 300features_40minwords_10text.vocabulary.* with mmap=None\n",
      "2019-03-14 13:23:48,201 : INFO : loading trainables recursively from 300features_40minwords_10text.trainables.* with mmap=None\n",
      "2019-03-14 13:23:48,201 : INFO : setting ignored attribute cum_table to None\n",
      "2019-03-14 13:23:48,202 : INFO : loaded 300features_40minwords_10text\n"
     ]
    },
    {
     "name": "stdout",
     "output_type": "stream",
     "text": [
      "11986\n",
      "[ 0.04239232  0.01366154  0.03605619  0.04140086 -0.02482316 -0.02498352\n",
      "  0.03716552 -0.11370687 -0.06705865  0.13255826]\n"
     ]
    }
   ],
   "source": [
    "from sklearn.manifold import TSNE\n",
    "import matplotlib as mpl\n",
    "import matplotlib.pyplot as plt\n",
    "import gensim\n",
    "import gensim.models as g\n",
    "\n",
    "# 그래프에서 마이너스 폰트 깨지는 문제에 대한 대처\n",
    "mpl.rcParams['axes.unicode_minus'] = False\n",
    "\n",
    "model_name = '300features_40minwords_10text'\n",
    "model = g.Doc2Vec.load(model_name)\n",
    "\n",
    "vocab = list(model.wv.vocab)\n",
    "X = model[vocab]\n",
    "\n",
    "print(len(X))\n",
    "print(X[0][:10])"
   ]
  },
  {
   "cell_type": "code",
   "execution_count": 22,
   "metadata": {},
   "outputs": [],
   "source": [
    "# 100개 단어만 시각화\n",
    "tsne = TSNE(n_components=2)\n",
    "X_tsne = tsne.fit_transform(X[:100, :])"
   ]
  },
  {
   "cell_type": "code",
   "execution_count": 23,
   "metadata": {},
   "outputs": [
    {
     "data": {
      "text/plain": [
       "(100, 2)"
      ]
     },
     "execution_count": 23,
     "metadata": {},
     "output_type": "execute_result"
    }
   ],
   "source": [
    "df = pd.DataFrame(X_tsne, index=vocab[:100], columns=['x', 'y'])\n",
    "df.shape"
   ]
  },
  {
   "cell_type": "code",
   "execution_count": 24,
   "metadata": {},
   "outputs": [
    {
     "data": {
      "text/html": [
       "<div>\n",
       "<style scoped>\n",
       "    .dataframe tbody tr th:only-of-type {\n",
       "        vertical-align: middle;\n",
       "    }\n",
       "\n",
       "    .dataframe tbody tr th {\n",
       "        vertical-align: top;\n",
       "    }\n",
       "\n",
       "    .dataframe thead th {\n",
       "        text-align: right;\n",
       "    }\n",
       "</style>\n",
       "<table border=\"1\" class=\"dataframe\">\n",
       "  <thead>\n",
       "    <tr style=\"text-align: right;\">\n",
       "      <th></th>\n",
       "      <th>x</th>\n",
       "      <th>y</th>\n",
       "    </tr>\n",
       "  </thead>\n",
       "  <tbody>\n",
       "    <tr>\n",
       "      <th>with</th>\n",
       "      <td>2.214755</td>\n",
       "      <td>-5.889236</td>\n",
       "    </tr>\n",
       "    <tr>\n",
       "      <th>all</th>\n",
       "      <td>-1.472784</td>\n",
       "      <td>1.498078</td>\n",
       "    </tr>\n",
       "    <tr>\n",
       "      <th>this</th>\n",
       "      <td>-0.036627</td>\n",
       "      <td>0.850873</td>\n",
       "    </tr>\n",
       "    <tr>\n",
       "      <th>stuff</th>\n",
       "      <td>-2.998814</td>\n",
       "      <td>2.175952</td>\n",
       "    </tr>\n",
       "    <tr>\n",
       "      <th>go</th>\n",
       "      <td>5.108020</td>\n",
       "      <td>3.624266</td>\n",
       "    </tr>\n",
       "  </tbody>\n",
       "</table>\n",
       "</div>"
      ],
      "text/plain": [
       "              x         y\n",
       "with   2.214755 -5.889236\n",
       "all   -1.472784  1.498078\n",
       "this  -0.036627  0.850873\n",
       "stuff -2.998814  2.175952\n",
       "go     5.108020  3.624266"
      ]
     },
     "execution_count": 24,
     "metadata": {},
     "output_type": "execute_result"
    }
   ],
   "source": [
    "df.head()"
   ]
  },
  {
   "cell_type": "code",
   "execution_count": 26,
   "metadata": {},
   "outputs": [
    {
     "data": {
      "image/png": "[encoded data removed]",
      "text/plain": [
       "<Figure size 1728x864 with 1 Axes>"
      ]
     },
     "metadata": {
      "needs_background": "light"
     },
     "output_type": "display_data"
    }
   ],
   "source": [
    "fig = plt.figure()\n",
    "fig.set_size_inches(24,12)\n",
    "ax = fig.add_subplot(1,1,1)\n",
    "\n",
    "ax.scatter(df['x'], df['y'])\n",
    "\n",
    "for word, pos in df.iterrows():\n",
    "    ax.annotate(word, pos, fontsize=15)\n",
    "plt.show()"
   ]
  },
  {
   "cell_type": "markdown",
   "metadata": {},
   "source": [
    "## 평균 feature vector 구하기"
   ]
  },
  {
   "cell_type": "code",
   "execution_count": 32,
   "metadata": {},
   "outputs": [],
   "source": [
    "import numpy as np\n",
    "\n",
    "def makeFeatureVec(words, model, num_features):\n",
    "    '''\n",
    "    주어진 문장에서 단어 벡터의 평균을 구하는 함수\n",
    "    '''\n",
    "    featureVec = np.zeros((num_features,), dtype='float32')\n",
    "    \n",
    "    nwords = 0.\n",
    "    # Index2word는 모델의 사전에 있는 단어 명을 담은 리스트이다.\n",
    "    # 속도를 위해 set 형태로 초기화한다.\n",
    "    index2word_set = set(model.wv.index2word)\n",
    "    # 루프를 돌며 모델 사전에 포함되는 단어면 feature에 추가한다\n",
    "    for word in words:\n",
    "        if word in index2word_set:\n",
    "            nwords += 1.\n",
    "            featureVec = np.add(featureVec, model[word])\n",
    "    # 결과를 단어 수로 나누어 평균을 구한다\n",
    "    featureVec = np.divide(featureVec, nwords)\n",
    "    \n",
    "    return featureVec"
   ]
  },
  {
   "cell_type": "code",
   "execution_count": 28,
   "metadata": {},
   "outputs": [],
   "source": [
    "def getAvgFeatureVecs(reviews, model, num_features):\n",
    "    # 리뷰 단어 목록의 각각에 대한 평균 feature 벡터를 계산하고\n",
    "    # 2D numpy 배열을 초기화 한다\n",
    "    \n",
    "    # counter 초기화\n",
    "    counter = 0.\n",
    "    # 속도를 위해 2D numpy 배열을 미리 할당\n",
    "    reviewFeatureVecs = np.zeros((len(reviews), num_features), dtype='float32')\n",
    "    \n",
    "    for review in reviews:\n",
    "        # 1000개마다 상태 출력\n",
    "        if counter % 1000 == 0.:\n",
    "            print(\"Review %d of %d\" % (counter, len(reviews)))\n",
    "        # 평균 feature 벡터를 만들기 위해 위에서 정의한 함수 호출\n",
    "        reviewFeatureVecs[int(counter)] = makeFeatureVec(review, model, num_features)\n",
    "        # 카운터 증가\n",
    "        counter += 1.\n",
    "    \n",
    "    return reviewFeatureVecs"
   ]
  },
  {
   "cell_type": "code",
   "execution_count": 29,
   "metadata": {},
   "outputs": [],
   "source": [
    "# 멀티쓰레드로 4개의 worker를 사용하여 처리\n",
    "def getCleanReviews(reviews):\n",
    "    clean_reviews = []\n",
    "    clean_reviews = KaggleWord2VecUtility.apply_by_multiprocessing(\n",
    "        reviews['review'], KaggleWord2VecUtility.review_to_wordlist, workers=4\n",
    "    )\n",
    "    \n",
    "    return clean_reviews"
   ]
  },
  {
   "cell_type": "code",
   "execution_count": 33,
   "metadata": {},
   "outputs": [
    {
     "name": "stdout",
     "output_type": "stream",
     "text": [
      "Review 0 of 25000\n",
      "Review 1000 of 25000\n",
      "Review 2000 of 25000\n",
      "Review 3000 of 25000\n",
      "Review 4000 of 25000\n",
      "Review 5000 of 25000\n",
      "Review 6000 of 25000\n",
      "Review 7000 of 25000\n",
      "Review 8000 of 25000\n",
      "Review 9000 of 25000\n",
      "Review 10000 of 25000\n",
      "Review 11000 of 25000\n",
      "Review 12000 of 25000\n",
      "Review 13000 of 25000\n",
      "Review 14000 of 25000\n",
      "Review 15000 of 25000\n",
      "Review 16000 of 25000\n",
      "Review 17000 of 25000\n",
      "Review 18000 of 25000\n",
      "Review 19000 of 25000\n",
      "Review 20000 of 25000\n",
      "Review 21000 of 25000\n",
      "Review 22000 of 25000\n",
      "Review 23000 of 25000\n",
      "Review 24000 of 25000\n",
      "Wall time: 51.6 s\n"
     ]
    }
   ],
   "source": [
    "%time trainDataVecs = getAvgFeatureVecs(getCleanReviews(train), model, num_features)"
   ]
  },
  {
   "cell_type": "code",
   "execution_count": 34,
   "metadata": {},
   "outputs": [
    {
     "name": "stdout",
     "output_type": "stream",
     "text": [
      "Review 0 of 25000\n",
      "Review 1000 of 25000\n",
      "Review 2000 of 25000\n",
      "Review 3000 of 25000\n",
      "Review 4000 of 25000\n",
      "Review 5000 of 25000\n",
      "Review 6000 of 25000\n",
      "Review 7000 of 25000\n",
      "Review 8000 of 25000\n",
      "Review 9000 of 25000\n",
      "Review 10000 of 25000\n",
      "Review 11000 of 25000\n",
      "Review 12000 of 25000\n",
      "Review 13000 of 25000\n",
      "Review 14000 of 25000\n",
      "Review 15000 of 25000\n",
      "Review 16000 of 25000\n",
      "Review 17000 of 25000\n",
      "Review 18000 of 25000\n",
      "Review 19000 of 25000\n",
      "Review 20000 of 25000\n",
      "Review 21000 of 25000\n",
      "Review 22000 of 25000\n",
      "Review 23000 of 25000\n",
      "Review 24000 of 25000\n",
      "Wall time: 49.5 s\n"
     ]
    }
   ],
   "source": [
    "%time testDataVecs = getAvgFeatureVecs(getCleanReviews(test), model, num_features)"
   ]
  },
  {
   "cell_type": "markdown",
   "metadata": {},
   "source": [
    "### 랜덤 포레스트 적용"
   ]
  },
  {
   "cell_type": "code",
   "execution_count": 35,
   "metadata": {},
   "outputs": [],
   "source": [
    "from sklearn.ensemble import RandomForestClassifier\n",
    "\n",
    "forest = RandomForestClassifier(\n",
    "    n_estimators=100, n_jobs=-1, random_state=2018\n",
    ")"
   ]
  },
  {
   "cell_type": "code",
   "execution_count": 36,
   "metadata": {},
   "outputs": [
    {
     "name": "stdout",
     "output_type": "stream",
     "text": [
      "Wall time: 4.49 s\n"
     ]
    }
   ],
   "source": [
    "%time forest = forest.fit(trainDataVecs, train['sentiment'])"
   ]
  },
  {
   "cell_type": "code",
   "execution_count": 37,
   "metadata": {},
   "outputs": [
    {
     "name": "stdout",
     "output_type": "stream",
     "text": [
      "Wall time: 42.3 s\n"
     ]
    }
   ],
   "source": [
    "from sklearn.model_selection import cross_val_score\n",
    "\n",
    "%time score = np.mean(cross_val_score(forest, trainDataVecs, train['sentiment'], cv=10, scoring='roc_auc'))"
   ]
  },
  {
   "cell_type": "code",
   "execution_count": 38,
   "metadata": {},
   "outputs": [
    {
     "data": {
      "text/plain": [
       "0.8983178559999999"
      ]
     },
     "execution_count": 38,
     "metadata": {},
     "output_type": "execute_result"
    }
   ],
   "source": [
    "score"
   ]
  },
  {
   "cell_type": "code",
   "execution_count": 39,
   "metadata": {},
   "outputs": [
    {
     "data": {
      "text/html": [
       "<div>\n",
       "<style scoped>\n",
       "    .dataframe tbody tr th:only-of-type {\n",
       "        vertical-align: middle;\n",
       "    }\n",
       "\n",
       "    .dataframe tbody tr th {\n",
       "        vertical-align: top;\n",
       "    }\n",
       "\n",
       "    .dataframe thead th {\n",
       "        text-align: right;\n",
       "    }\n",
       "</style>\n",
       "<table border=\"1\" class=\"dataframe\">\n",
       "  <thead>\n",
       "    <tr style=\"text-align: right;\">\n",
       "      <th></th>\n",
       "      <th>id</th>\n",
       "      <th>sentiment</th>\n",
       "    </tr>\n",
       "  </thead>\n",
       "  <tbody>\n",
       "    <tr>\n",
       "      <th>0</th>\n",
       "      <td>\"5814_8\"</td>\n",
       "      <td>1</td>\n",
       "    </tr>\n",
       "    <tr>\n",
       "      <th>1</th>\n",
       "      <td>\"2381_9\"</td>\n",
       "      <td>1</td>\n",
       "    </tr>\n",
       "    <tr>\n",
       "      <th>2</th>\n",
       "      <td>\"7759_3\"</td>\n",
       "      <td>0</td>\n",
       "    </tr>\n",
       "    <tr>\n",
       "      <th>3</th>\n",
       "      <td>\"3630_4\"</td>\n",
       "      <td>0</td>\n",
       "    </tr>\n",
       "    <tr>\n",
       "      <th>4</th>\n",
       "      <td>\"9495_8\"</td>\n",
       "      <td>1</td>\n",
       "    </tr>\n",
       "  </tbody>\n",
       "</table>\n",
       "</div>"
      ],
      "text/plain": [
       "         id  sentiment\n",
       "0  \"5814_8\"          1\n",
       "1  \"2381_9\"          1\n",
       "2  \"7759_3\"          0\n",
       "3  \"3630_4\"          0\n",
       "4  \"9495_8\"          1"
      ]
     },
     "execution_count": 39,
     "metadata": {},
     "output_type": "execute_result"
    }
   ],
   "source": [
    "result = forest.predict(trainDataVecs)\n",
    "output = pd.DataFrame(data={\"id\":train['id'], \"sentiment\":result})\n",
    "output.head()"
   ]
  },
  {
   "cell_type": "code",
   "execution_count": 40,
   "metadata": {},
   "outputs": [
    {
     "name": "stdout",
     "output_type": "stream",
     "text": [
      "0\n"
     ]
    },
    {
     "data": {
      "text/plain": [
       "1    12500\n",
       "0    12500\n",
       "Name: sentiment, dtype: int64"
      ]
     },
     "execution_count": 40,
     "metadata": {},
     "output_type": "execute_result"
    }
   ],
   "source": [
    "output_sentiment = output['sentiment'].value_counts()\n",
    "print(output_sentiment[0] - output_sentiment[1])\n",
    "output_sentiment"
   ]
  },
  {
   "cell_type": "code",
   "execution_count": 41,
   "metadata": {},
   "outputs": [
    {
     "data": {
      "text/plain": [
       "12500"
      ]
     },
     "execution_count": 41,
     "metadata": {},
     "output_type": "execute_result"
    }
   ],
   "source": [
    "output_sentiment[0]"
   ]
  },
  {
   "cell_type": "code",
   "execution_count": null,
   "metadata": {},
   "outputs": [],
   "source": []
  }
 ],
 "metadata": {
  "kernelspec": {
   "display_name": "Python 3",
   "language": "python",
   "name": "python3"
  },
  "language_info": {
   "codemirror_mode": {
    "name": "ipython",
    "version": 3
   },
   "file_extension": ".py",
   "mimetype": "text/x-python",
   "name": "python",
   "nbconvert_exporter": "python",
   "pygments_lexer": "ipython3",
   "version": "3.6.8"
  }
 },
 "nbformat": 4,
 "nbformat_minor": 2
}
