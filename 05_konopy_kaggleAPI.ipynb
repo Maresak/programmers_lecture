{
 "cells": [
  {
   "cell_type": "markdown",
   "metadata": {},
   "source": [
    "# KoNLPy 설치\n",
    "### JPype도 설치해줘야 한다. (공식 홈페이지 참고)"
   ]
  },
  {
   "cell_type": "code",
   "execution_count": 1,
   "metadata": {},
   "outputs": [
    {
     "name": "stdout",
     "output_type": "stream",
     "text": [
      "['설치가 잘 되었는지 Test1 을 합니다.']\n"
     ]
    }
   ],
   "source": [
    "from konlpy.tag import Kkma\n",
    "from konlpy.utils import pprint\n",
    "kkma = Kkma()\n",
    "print(kkma.sentences(u'설치가 잘 되었는지 Test1을 합니다.'))"
   ]
  },
  {
   "cell_type": "code",
   "execution_count": 2,
   "metadata": {},
   "outputs": [
    {
     "name": "stdout",
     "output_type": "stream",
     "text": [
      "['설치', '1']\n"
     ]
    }
   ],
   "source": [
    "print(kkma.nouns(u'설치가 잘 되었는지 Test1을 합니다.'))"
   ]
  },
  {
   "cell_type": "code",
   "execution_count": 3,
   "metadata": {},
   "outputs": [
    {
     "name": "stdout",
     "output_type": "stream",
     "text": [
      "[('설치', 'NNG'), ('가', 'JKS'), ('잘', 'MAG'), ('되', 'VV'), ('었', 'EPT'), ('는지', 'ECS'), ('Test', 'OL'), ('1', 'NR'), ('을', 'JKO'), ('하', 'VV'), ('ㅂ니다', 'EFN'), ('.', 'SF')]\n"
     ]
    }
   ],
   "source": [
    "print(kkma.pos(u'설치가 잘 되었는지 Test1을 합니다.'))"
   ]
  },
  {
   "cell_type": "markdown",
   "metadata": {},
   "source": [
    "# Kaggle API\n",
    "Kaggle 공식 깃허브 참고 (https://github.com/Kaggle/kaggle-api)\n",
    "account에서 API 발급 받고 깃허브 문서에서 API파일 위치 대로 옮겨 놓는다"
   ]
  },
  {
   "cell_type": "code",
   "execution_count": 4,
   "metadata": {},
   "outputs": [
    {
     "name": "stdout",
     "output_type": "stream",
     "text": [
      "Name: kaggle\n",
      "Version: 1.5.3\n",
      "Summary: Kaggle API\n",
      "Home-page: https://github.com/Kaggle/kaggle-api\n",
      "Author: Kaggle\n",
      "Author-email: support@kaggle.com\n",
      "License: Apache 2.0\n",
      "Location: c:\\python36\\virtualenv\\venv01\\lib\\site-packages\n",
      "Requires: certifi, tqdm, python-slugify, requests, six, python-dateutil, urllib3\n",
      "Required-by: \n"
     ]
    }
   ],
   "source": [
    "!pip show kaggle"
   ]
  },
  {
   "cell_type": "code",
   "execution_count": 7,
   "metadata": {},
   "outputs": [
    {
     "name": "stdout",
     "output_type": "stream",
     "text": [
      "usage: kaggle competitions list [-h] [--group GROUP] [--category CATEGORY]\n",
      "                                [--sort-by SORT_BY] [-p PAGE] [-s SEARCH] [-v]\n",
      "\n",
      "optional arguments:\n",
      "  -h, --help            show this help message and exit\n",
      "  --group GROUP         Search for competitions in a specific group. Default is 'general'. Valid options are 'general', 'entered', and 'inClass'\n",
      "  --category CATEGORY   Search for competitions of a specific category. Default is 'all'. Valid options are 'all', 'featured', 'research', 'recruitment', 'gettingStarted', 'masters', and 'playground'\n",
      "  --sort-by SORT_BY     Sort list results. Default is 'latestDeadline'. Valid options are 'grouped', 'prize', 'earliestDeadline', 'latestDeadline', 'numberOfTeams', and 'recentlyCreated'\n",
      "  -p PAGE, --page PAGE  Page number for results paging. Page size is 20 by default\n",
      "  -s SEARCH, --search SEARCH\n",
      "                        Term(s) to search for\n",
      "  -v, --csv             Print results in CSV format (if not set print in table format)\n"
     ]
    }
   ],
   "source": [
    "!kaggle competitions list -h"
   ]
  },
  {
   "cell_type": "code",
   "execution_count": 8,
   "metadata": {},
   "outputs": [
    {
     "name": "stdout",
     "output_type": "stream",
     "text": [
      "ref                    deadline             category            reward  teamCount  userHasEntered  \n",
      "---------------------  -------------------  ---------------  ---------  ---------  --------------  \n",
      "word2vec-nlp-tutorial  2015-06-30 23:59:00  Getting Started  Knowledge        578           False  \n"
     ]
    }
   ],
   "source": [
    "# nlp에 해당되는 경진대회 찾기\n",
    "!kaggle competitions list -s nlp"
   ]
  },
  {
   "cell_type": "code",
   "execution_count": 9,
   "metadata": {},
   "outputs": [
    {
     "name": "stdout",
     "output_type": "stream",
     "text": [
      "name                         size  creationDate         \n",
      "--------------------------  -----  -------------------  \n",
      "sampleSubmission.csv        276KB  2014-07-21 22:24:56  \n",
      "unlabeledTrainData.tsv.zip   26MB  2014-08-05 23:31:46  \n",
      "testData.tsv.zip             13MB  2014-08-05 23:31:52  \n",
      "labeledTrainData.tsv.zip     13MB  2014-08-05 23:32:11  \n"
     ]
    }
   ],
   "source": [
    "# nlp에 해당되는 경진대회 데이터셋 보기\n",
    "!kaggle competitions files -c word2vec-nlp-tutorial"
   ]
  },
  {
   "cell_type": "code",
   "execution_count": 11,
   "metadata": {},
   "outputs": [
    {
     "name": "stdout",
     "output_type": "stream",
     "text": [
      "name                   size  creationDate         \n",
      "---------------------  ----  -------------------  \n",
      "train.csv              60KB  2013-06-28 13:40:25  \n",
      "test.csv               28KB  2013-06-28 13:40:24  \n",
      "gender_submission.csv   3KB  2017-02-01 01:49:18  \n"
     ]
    }
   ],
   "source": [
    "# titanic에 해당되는 경진대회 데이터셋 보기\n",
    "!kaggle competitions files -c titanic"
   ]
  },
  {
   "cell_type": "code",
   "execution_count": 13,
   "metadata": {},
   "outputs": [
    {
     "name": "stdout",
     "output_type": "stream",
     "text": [
      "403 - Forbidden\n"
     ]
    }
   ],
   "source": [
    "# 타이타닉 경진대회 파일 다운로드\n",
    "!kaggle competitions download -c titanic"
   ]
  },
  {
   "cell_type": "markdown",
   "metadata": {},
   "source": [
    "    403-Frobidden 이 뜨는 경우 Rule에 대한 동의를 하지 않아 다운 받을 수 없는 것이다.\n",
    "    https://www.kaggle.com/c/<competition-name>/rules\n",
    "    다운 받을 데이터셋이나 competition의 Data 또는 Rule 섹션 하단의 Rule에 대해 동의한다"
   ]
  },
  {
   "cell_type": "code",
   "execution_count": 16,
   "metadata": {},
   "outputs": [
    {
     "name": "stdout",
     "output_type": "stream",
     "text": [
      "Downloading train.csv to D:\\python_project\\programmers_lecture\n",
      "\n",
      "503 - Service Unavailable\n"
     ]
    },
    {
     "name": "stderr",
     "output_type": "stream",
     "text": [
      "\n",
      "  0%|          | 0.00/59.8k [00:00<?, ?B/s]\n",
      "100%|##########| 59.8k/59.8k [00:00<00:00, 718kB/s]\n"
     ]
    }
   ],
   "source": [
    "# 타이타닉 경진대회 파일 다운로드\n",
    "!kaggle competitions download -c titanic"
   ]
  },
  {
   "cell_type": "markdown",
   "metadata": {},
   "source": [
    "### Submission이나 Dataset 같은 옵션은 공식 문서나 강의 영상 참고"
   ]
  },
  {
   "cell_type": "code",
   "execution_count": 1,
   "metadata": {},
   "outputs": [
    {
     "name": "stdout",
     "output_type": "stream",
     "text": [
      "No datasets found\n"
     ]
    }
   ],
   "source": [
    "!kaggle datasets list -s survey"
   ]
  },
  {
   "cell_type": "code",
   "execution_count": null,
   "metadata": {},
   "outputs": [],
   "source": []
  }
 ],
 "metadata": {
  "kernelspec": {
   "display_name": "Python 3",
   "language": "python",
   "name": "python3"
  },
  "language_info": {
   "codemirror_mode": {
    "name": "ipython",
    "version": 3
   },
   "file_extension": ".py",
   "mimetype": "text/x-python",
   "name": "python",
   "nbconvert_exporter": "python",
   "pygments_lexer": "ipython3",
   "version": "3.6.8"
  }
 },
 "nbformat": 4,
 "nbformat_minor": 2
}
